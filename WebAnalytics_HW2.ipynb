{
 "cells": [
  {
   "cell_type": "code",
   "execution_count": 7,
   "metadata": {
    "id": "VcN21d3G1Lfc"
   },
   "outputs": [],
   "source": [
    "movie = 'gangs_of_new_york'\n",
    "pageNum = 3\n",
    "\n",
    "movie_partition = 'https://www.rottentomatoes.com/m/'\n",
    "movie_review_partition = '/reviews'\n",
    "movie_review_html = movie_partition + movie + movie_review_partition\n",
    "\n"
   ]
  },
  {
   "cell_type": "code",
   "execution_count": 3,
   "metadata": {
    "colab": {
     "base_uri": "https://localhost:8080/"
    },
    "id": "0h80C3qB3-3y",
    "outputId": "ef87ef3d-b070-4470-9a92-f4b26b9b54a1"
   },
   "outputs": [],
   "source": [
    "!pip install selenium\n",
    "!apt-get update \n",
    "!apt install chromium-chromedriver"
   ]
  },
  {
   "cell_type": "code",
   "execution_count": 8,
   "metadata": {
    "id": "kxPUds1vCrnx"
   },
   "outputs": [],
   "source": [
    "import time\n",
    "import pandas as pd\n",
    "from bs4 import BeautifulSoup\n",
    "from selenium import webdriver\n",
    "from selenium.webdriver.chrome.service import Service\n",
    "from selenium.common.exceptions import NoSuchElementException\n",
    "from selenium.webdriver.common.by import By"
   ]
  },
  {
   "cell_type": "code",
   "execution_count": 9,
   "metadata": {
    "colab": {
     "base_uri": "https://localhost:8080/"
    },
    "id": "rdpKUzFQA1e0",
    "outputId": "26b7f430-8ff0-4845-aeed-bc08a9c18dc0"
   },
   "outputs": [
    {
     "name": "stderr",
     "output_type": "stream",
     "text": [
      "C:\\Users\\dell\\AppData\\Local\\Temp\\ipykernel_5256\\1025106261.py:5: DeprecationWarning: use options instead of chrome_options\n",
      "  browser = webdriver.Chrome('chromedriver',chrome_options=chrome_options)\n"
     ]
    }
   ],
   "source": [
    "chrome_options = webdriver.ChromeOptions()\n",
    "chrome_options.add_argument('--headless')\n",
    "chrome_options.add_argument('--no-sandbox')\n",
    "chrome_options.add_argument('--disable-dev-shm-usage')\n",
    "browser = webdriver.Chrome('chromedriver',chrome_options=chrome_options)"
   ]
  },
  {
   "cell_type": "markdown",
   "metadata": {
    "id": "CciTQ7VHA1VO"
   },
   "source": []
  },
  {
   "cell_type": "code",
   "execution_count": 6,
   "metadata": {
    "colab": {
     "base_uri": "https://localhost:8080/"
    },
    "id": "6GU9wWXi7o3y",
    "outputId": "e0aa59ab-249a-409b-df25-3b365d1995ec"
   },
   "outputs": [
    {
     "name": "stderr",
     "output_type": "stream",
     "text": [
      "C:\\Users\\dell\\AppData\\Local\\Temp\\ipykernel_5256\\2754968524.py:2: DeprecationWarning: use options instead of chrome_options\n",
      "  browser = webdriver.Chrome('chromedriver',chrome_options=chrome_options)\n"
     ]
    },
    {
     "name": "stdout",
     "output_type": "stream",
     "text": [
      "['Justin Brown', 'Brandon Collins', 'David Walsh', 'Danielle Solzman', 'Josh Larsen', 'Joshua Brown', 'PJ Nabarro', 'Namrata Joshi', 'Eileen Jones', 'Amy Taubin', 'Barbara Ellen', 'James Wegg', 'Nell Minow', 'Emanuel Levy', 'Philip French', 'Michael Dequina', 'Urban Cinefile Critics', 'Peter Canavese', 'Rob Gonsalves', 'Joe Lozito', 'Jason Zingale', 'Jeffrey M. Anderson', 'Jeffrey Overstreet', 'Steve Crum', 'Daniel Kasman', 'Judith Egerton', 'Rob Nelson', 'Dan Jardine', 'Greg Maki', 'Ed Colley', 'David Foucher', 'Nick Rogers', 'John J. Puccio', 'Sara Michelle Fetters', 'Todd Gilchrist', 'Wesley Lovell', 'Jim Shelby', 'Andrea Chase', 'Karina Montgomery', 'Enrique Buchichio', 'James Croot', 'Sandra Hall', 'Kit Bowen', 'Shannon J. Harvey', 'Tom Grealis', 'James Rocchi', 'Garth Franklin', 'Luis Martinez', 'Pablo Villaça', 'Angie Errigo', 'David Keyes', 'Blake Davis', 'Jorge Avila Andrade', 'Mark Palermo', 'Josh Gilchrist', 'Peter Bradshaw', 'Josef Braun', 'Andrew Sarris', 'Peter Rainer', 'Dan Marcucci and Nancy Serougi']\n"
     ]
    }
   ],
   "source": [
    "from IPython.utils import strdispatch\n",
    "browser = webdriver.Chrome('chromedriver',chrome_options=chrome_options)\n",
    "browser.get(movie_review_html)\n",
    "\n",
    "def check_exists_by_xpath(xpath):\n",
    "    try:\n",
    "        browser.find_element(By.XPATH,xpath)\n",
    "    except NoSuchElementException:\n",
    "        return False\n",
    "    return True\n",
    "\n",
    "movie_critic_list = []\n",
    "movie_rating_list = []\n",
    "movie_source_list = []\n",
    "movie_text_list = []\n",
    "movie_date_list = []\n",
    "\n",
    "for i in range(0, pageNum):\n",
    "\n",
    "  page_source     = browser.page_source\n",
    "  soup            = BeautifulSoup(page_source, 'lxml')\n",
    "  reviews_content = soup.find_all('div', class_='row review_table_row')\n",
    "\n",
    "\n",
    "  for review in reviews_content:\n",
    "      \n",
    "      movie_critic = 'NA'\n",
    "      movie_rating = 'NA'\n",
    "      movie_source = 'NA'\n",
    "      movie_text = 'NA'\n",
    "      movie_date = 'NA'\n",
    "      \n",
    "      \n",
    "      movie_critic      = review.find('a', class_='unstyled bold articleLink').text.strip()\n",
    "\n",
    "      if 'review_icon icon small rotten' in str(review):\n",
    "        #movie_rating      = review.find('div', class_='review_icon icon small rotten').text.strip()\n",
    "        movie_rating = 'rotten'\n",
    "      elif 'review_icon icon small fresh' in str(review):\n",
    "        #movie_rating      = review.find('div', class_='review_icon icon small fresh').text.strip()\n",
    "        movie_rating = 'fresh'\n",
    "      else:\n",
    "        pass\n",
    "\n",
    "      movie_source    = review.find('em', class_='subtle critic-publication').text.strip()\n",
    "      movie_text      = review.find('div', class_='the_review').text.strip()\n",
    "      movie_date      = review.find('div', class_='review-date subtle small').text.strip()\n",
    "\n",
    "      movie_critic_list.append(movie_critic)\n",
    "      movie_rating_list.append(movie_rating)\n",
    "      movie_source_list.append(movie_source)\n",
    "      movie_text_list.append(movie_text)\n",
    "      movie_date_list.append(movie_date)\n",
    "\n",
    "  if (check_exists_by_xpath('//button[@class=\"js-prev-next-paging-next btn prev-next-paging__button prev-next-paging__button-right\"]')):\n",
    "      \n",
    "      while True:\n",
    "        old_first_element = browser.find_element(By.XPATH,'//div[@class=\"col-sm-17 col-xs-32 critic_name\"]').text\n",
    "        \n",
    "        browser.find_element(By.XPATH,'//button[@class=\"js-prev-next-paging-next btn prev-next-paging__button prev-next-paging__button-right\"]').click()\n",
    "        time.sleep(1)\n",
    "\n",
    "        new_first_element = browser.find_element(By.XPATH,'//div[@class=\"col-sm-17 col-xs-32 critic_name\"]').text\n",
    "\n",
    "        #print(old_first_element)\n",
    "        #print(new_first_element)\n",
    "\n",
    "\n",
    "        if old_first_element == new_first_element:\n",
    "          #print(\"next button didn't success\")\n",
    "          pass\n",
    "        else:\n",
    "          #print(\"next button did success\")\n",
    "          break\n",
    "\n",
    "\n",
    "print(movie_critic_list)\n",
    "\n",
    "\n",
    "\n",
    "browser.quit()\n"
   ]
  },
  {
   "cell_type": "code",
   "execution_count": null,
   "metadata": {
    "id": "22TRDF-YDdgQ"
   },
   "outputs": [],
   "source": [
    "with open('Tse_Hsiao_movie.txt','w',encoding='utf8') as fw:\n",
    "\n",
    "  for i in range(len(movie_critic_list)):\n",
    "    movie_critic = movie_critic_list[i]\n",
    "    movie_rating = movie_rating_list[i]\n",
    "    movie_source = movie_source_list[i]\n",
    "    movie_text = movie_text_list[i]\n",
    "    movie_date = movie_date_list[i]\n",
    "\n",
    "    fw.write(movie_critic+'\\t'+movie_rating+'\\t'+movie_source+'\\t'+movie_text+'\\t'+movie_date+'\\n')\n",
    "\n"
   ]
  }
 ],
 "metadata": {
  "colab": {
   "provenance": []
  },
  "kernelspec": {
   "display_name": "Python 3 (ipykernel)",
   "language": "python",
   "name": "python3"
  },
  "language_info": {
   "codemirror_mode": {
    "name": "ipython",
    "version": 3
   },
   "file_extension": ".py",
   "mimetype": "text/x-python",
   "name": "python",
   "nbconvert_exporter": "python",
   "pygments_lexer": "ipython3",
   "version": "3.9.12"
  }
 },
 "nbformat": 4,
 "nbformat_minor": 1
}
